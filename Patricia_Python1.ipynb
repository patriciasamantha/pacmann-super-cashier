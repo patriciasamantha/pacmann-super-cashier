{
  "nbformat": 4,
  "nbformat_minor": 0,
  "metadata": {
    "colab": {
      "provenance": [],
      "authorship_tag": "ABX9TyPEDGNrIyjeaHvR4eBtssiZ",
      "include_colab_link": true
    },
    "kernelspec": {
      "name": "python3",
      "display_name": "Python 3"
    },
    "language_info": {
      "name": "python"
    }
  },
  "cells": [
    {
      "cell_type": "markdown",
      "metadata": {
        "id": "view-in-github",
        "colab_type": "text"
      },
      "source": [
        "<a href=\"https://colab.research.google.com/github/patriciasamantha/pacmann-super-cashier/blob/main/Patricia_Python1.ipynb\" target=\"_parent\"><img src=\"https://colab.research.google.com/assets/colab-badge.svg\" alt=\"Open In Colab\"/></a>"
      ]
    },
    {
      "cell_type": "code",
      "execution_count": 2,
      "metadata": {
        "id": "tBuG_h5vlL-W"
      },
      "outputs": [],
      "source": [
        "import pandas as pd\n",
        "import numpy as np"
      ]
    },
    {
      "cell_type": "code",
      "source": [
        "tabel1 = pd.DataFrame({'nama item':[], 'jumlah item':[],'harga per item':[]})\n",
        "\n",
        "class Transaction():\n",
        "  def add_item(self,nama_item,jumlah_item,harga_per_item):\n",
        "    global tabel1\n",
        "    new_item = pd.DataFrame({'nama item':[nama_item], 'jumlah item':[jumlah_item],'harga per item':[harga_per_item]})\n",
        "    tabel1 = tabel1.append(new_item, ignore_index=True)\n",
        "\n",
        "  def update_item_name(self,nama_item, update_nama_item):\n",
        "    global tabel1\n",
        "    tabel1.loc[tabel1['nama item'] == nama_item, 'nama item'] = update_nama_item\n",
        "\n",
        "  def update_item_qty(self,jumlah_item,update_jumlah_item):\n",
        "    global tabel1\n",
        "    tabel1.loc[tabel1['jumlah item'] == jumlah_item, 'jumlah item'] = update_jumlah_item\n",
        "\n",
        "  def update_item_price(self,harga_per_item,update_harga_per_item):\n",
        "    global tabel1\n",
        "    tabel1.loc[tabel1['harga per item'] == harga_per_item, 'harga per item'] = update_harga_per_item\n",
        "\n",
        "  def delete_item(self,nama_item):\n",
        "    global tabel1\n",
        "    tabel1 = tabel1[tabel1['nama item']!= nama_item]\n",
        "\n",
        "  def reset_item(self):\n",
        "    global tabel1\n",
        "    tabel1 = pd.DataFrame({'nama item':[],'jumlah item':[],'harga per item':[]})\n",
        "\n",
        "  def check_order(self):\n",
        "    global tabel1\n",
        "    is_order_correct = True\n",
        "    for column in tabel1.columns:\n",
        "      if (tabel1[column] == \"\").any():\n",
        "        is_order_correct = False\n",
        "        break\n",
        "    if is_order_correct:\n",
        "      print(\"pemesanan sudah benar\")\n",
        "    else:\n",
        "      print(\"pemesanan salah\")\n",
        "\n",
        "  def total_price(self):\n",
        "    global tabel1\n",
        "    rowprice = 0 #row price adalah total harga per baris\n",
        "    totalprice = 0 #total price adalah harga keseluruhan\n",
        "    for index, row in tabel1.iterrows():\n",
        "      rowprice += row['jumlah item'] * row['harga per item']\n",
        "    if rowprice >= 200000:\n",
        "      totalprice = rowprice*0.95\n",
        "      print(totalprice)\n",
        "    elif rowprice >= 300000:\n",
        "      totalprice = rowprice*0.92\n",
        "      print(totalprice)\n",
        "    elif rowprice >= 500000:\n",
        "      totalprice = rowprice*0.90\n",
        "      print(totalprice)\n",
        "    else:\n",
        "      print(rowprice)\n",
        "    return totalprice"
      ],
      "metadata": {
        "id": "k-19q-sTlNdo"
      },
      "execution_count": 3,
      "outputs": []
    },
    {
      "cell_type": "code",
      "source": [
        "transaksi1 = Transaction()\n",
        "transaksi1.add_item(\"guling\",23,123)\n",
        "transaksi1.add_item(\"monyet\",14,200)\n",
        "print(tabel1)\n",
        "transaksi1.update_item_name(\"guling\",\"kucing\")\n",
        "print(tabel1)\n",
        "transaksi1.update_item_qty(23,45)\n",
        "print(tabel1)\n",
        "transaksi1.update_item_price(123,10000)\n",
        "print(tabel1)\n",
        "transaksi1.delete_item(\"kucing\")\n",
        "print(tabel1)\n",
        "#transaksi1.reset_item\n",
        "#print(tabel1)\n",
        "transaksi1.check_order\n",
        "print(tabel1)\n",
        "total_price = transaksi1.total_price()\n",
        "print(total_price)"
      ],
      "metadata": {
        "colab": {
          "base_uri": "https://localhost:8080/"
        },
        "id": "fynoBvEMlQx7",
        "outputId": "79cc1474-593b-400a-db70-be55799a95e3"
      },
      "execution_count": 4,
      "outputs": [
        {
          "output_type": "stream",
          "name": "stdout",
          "text": [
            "  nama item  jumlah item  harga per item\n",
            "0    guling         23.0           123.0\n",
            "1    monyet         14.0           200.0\n",
            "  nama item  jumlah item  harga per item\n",
            "0    kucing         23.0           123.0\n",
            "1    monyet         14.0           200.0\n",
            "  nama item  jumlah item  harga per item\n",
            "0    kucing         45.0           123.0\n",
            "1    monyet         14.0           200.0\n",
            "  nama item  jumlah item  harga per item\n",
            "0    kucing         45.0         10000.0\n",
            "1    monyet         14.0           200.0\n",
            "  nama item  jumlah item  harga per item\n",
            "1    monyet         14.0           200.0\n",
            "  nama item  jumlah item  harga per item\n",
            "1    monyet         14.0           200.0\n",
            "2800.0\n",
            "0\n"
          ]
        },
        {
          "output_type": "stream",
          "name": "stderr",
          "text": [
            "<ipython-input-3-d8a5985c5992>:7: FutureWarning: The frame.append method is deprecated and will be removed from pandas in a future version. Use pandas.concat instead.\n",
            "  tabel1 = tabel1.append(new_item, ignore_index=True)\n",
            "<ipython-input-3-d8a5985c5992>:7: FutureWarning: The frame.append method is deprecated and will be removed from pandas in a future version. Use pandas.concat instead.\n",
            "  tabel1 = tabel1.append(new_item, ignore_index=True)\n"
          ]
        }
      ]
    }
  ]
}